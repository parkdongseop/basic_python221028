{
  "nbformat": 4,
  "nbformat_minor": 0,
  "metadata": {
    "colab": {
      "provenance": [],
      "authorship_tag": "ABX9TyPnpzK8ClU20/dnRQtTYFft",
      "include_colab_link": true
    },
    "kernelspec": {
      "name": "python3",
      "display_name": "Python 3"
    },
    "language_info": {
      "name": "python"
    }
  },
  "cells": [
    {
      "cell_type": "markdown",
      "metadata": {
        "id": "view-in-github",
        "colab_type": "text"
      },
      "source": [
        "<a href=\"https://colab.research.google.com/github/parkdongseop/basic_python221028/blob/main/basic_python221028.ipynb\" target=\"_parent\"><img src=\"https://colab.research.google.com/assets/colab-badge.svg\" alt=\"Open In Colab\"/></a>"
      ]
    },
    {
      "cell_type": "markdown",
      "source": [
        "3장 연습문제 eclass 박동섭 "
      ],
      "metadata": {
        "id": "Pe6GLvQrdnPz"
      }
    },
    {
      "cell_type": "code",
      "execution_count": 1,
      "metadata": {
        "colab": {
          "base_uri": "https://localhost:8080/"
        },
        "id": "hAoJ23LSadGZ",
        "outputId": "8cc98fd7-ec76-41f8-c3b4-627e1ad34aca"
      },
      "outputs": [
        {
          "output_type": "stream",
          "name": "stdout",
          "text": [
            "x의 값은?: 9\n",
            "y의 값은?: 6\n",
            "두 수의 합은 : 15\n",
            "두 수의 차는 : 3\n",
            "두 수의 곱은 : 54\n",
            "두 수의 평균은 : 7.5\n",
            " 큰 수는? : 9\n",
            " 작은 수는? : 6\n"
          ]
        }
      ],
      "source": [
        "x = int(input(\"x의 값은?: \"))\n",
        "y = int(input(\"y의 값은?: \"))\n",
        "\n",
        "print(\"두 수의 합은 :\" , x + y)\n",
        "print(\"두 수의 차는 :\" , x - y)\n",
        "print(\"두 수의 곱은 :\" , x * y)\n",
        "print(\"두 수의 평균은 :\" ,  (x + y)/2)\n",
        "print(\" 큰 수는? :\" , max(x , y))\n",
        "print(\" 작은 수는? :\" , min(x, y))"
      ]
    },
    {
      "cell_type": "code",
      "source": [
        "r = float(input(\"r값은? :\"))\n",
        "h = float(input(\"h값은? :\"))\n",
        "\n",
        "vol = 3.141592 * r**2 * h\n",
        "print(\"원기둥의 부피:\", vol)"
      ],
      "metadata": {
        "colab": {
          "base_uri": "https://localhost:8080/"
        },
        "id": "tB64L07iciRf",
        "outputId": "6993ac62-c6e8-4b40-8539-7b04a08368e1"
      },
      "execution_count": 2,
      "outputs": [
        {
          "output_type": "stream",
          "name": "stdout",
          "text": [
            "r값은? :10\n",
            "h값은? :10\n",
            "원기둥의 부피: 3141.592\n"
          ]
        }
      ]
    },
    {
      "cell_type": "code",
      "source": [
        "number = int(input(\"정수를 입력하시오.: \"))\n",
        "\n",
        "sum = 0 #코딩에서는 초기화가 중요함 initialized 내장함수\n",
        "sum = sum + number % 10\n",
        "number = number // 10\n",
        "\n",
        "sum = sum + number % 10\n",
        "number = number // 10\n",
        "\n",
        "sum = sum + number %10\n",
        "number = number // 10\n",
        "\n",
        "sum = sum + number % 10\n",
        "number = number // 10\n",
        "\n",
        "print(\"자리수의 합은: \", str(sum) ) #반복문 사용은 자제해보자 \n"
      ],
      "metadata": {
        "colab": {
          "base_uri": "https://localhost:8080/"
        },
        "id": "n1bTzk7desSY",
        "outputId": "e4535945-e1db-46ef-d57f-40c3b6832749"
      },
      "execution_count": 4,
      "outputs": [
        {
          "output_type": "stream",
          "name": "stdout",
          "text": [
            "정수를 입력하시오.: 1234\n",
            "자리수의 합은:  10\n"
          ]
        }
      ]
    },
    {
      "cell_type": "code",
      "source": [
        "x1 = int(input(\"x1의 값을 입력하시오.: \"))\n",
        "x2 = int(input(\"x2의 값을 입력하시오.: \"))\n",
        "y1 = int(input(\"y1의 값을 입력하시오.: \"))\n",
        "y2 = int(input(\"y2의 값을 입력하시오.: \"))\n",
        "dist = (x2 - x1 **2 + (y2 - y1) **2) ** 0.5\n",
        "print(\"두 점의 사이의 거리는?\", dist, \"입니다.\")"
      ],
      "metadata": {
        "colab": {
          "base_uri": "https://localhost:8080/"
        },
        "id": "Wii37IwLhJUG",
        "outputId": "21c28769-da11-419e-be4d-b4b4f2bfcfb9"
      },
      "execution_count": 10,
      "outputs": [
        {
          "output_type": "stream",
          "name": "stdout",
          "text": [
            "x1의 값을 입력하시오.: 10\n",
            "x2의 값을 입력하시오.: 10\n",
            "y1의 값을 입력하시오.: 10\n",
            "y2의 값을 입력하시오.: 10\n",
            "두 점의 사이의 거리는? (5.809009821810581e-16+9.486832980505138j) 입니다.\n"
          ]
        }
      ]
    },
    {
      "cell_type": "code",
      "source": [
        " import turtle\n",
        " t = turtle.Turtle()\n",
        " t.shape(\"turtle\")\n",
        " t.left(45)\n",
        " t.forward(141)\n",
        " t.setheading(0)\n",
        " t.goto(0,0)\n",
        " t.fd(100)\n",
        " t.lt(90)\n",
        " t.fd(100)\n",
        " t._screen.exitonclick()"
      ],
      "metadata": {
        "id": "--Id4nKXlP8r"
      },
      "execution_count": null,
      "outputs": []
    },
    {
      "cell_type": "code",
      "source": [
        "import turtle\n",
        "t = turtle.Turtle()\n",
        "t.shape(\"turtle\")\n",
        "t.left(45)\n",
        "t.forward(141)\n",
        "t.setheading(0)\n",
        "t.goto(0,0)\n",
        "t.fd(100)\n",
        "t.lt(90)\n",
        "t.fd(100)\n",
        "t.write(\"점의 길이 =\" + str(dist))"
      ],
      "metadata": {
        "id": "OFp-QaEBpSPp"
      },
      "execution_count": null,
      "outputs": []
    }
  ]
}